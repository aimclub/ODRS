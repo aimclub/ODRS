{
 "cells": [
  {
   "cell_type": "code",
   "execution_count": null,
   "metadata": {},
   "outputs": [],
   "source": [
    "!git clone https://github.com/saaresearch/ODRS.git\n",
    "%cd ODRS/\n",
    "!pip install -r requirements.txt \n",
    "%cd .."
   ]
  },
  {
   "attachments": {},
   "cell_type": "markdown",
   "metadata": {},
   "source": [
    "# ML Recommendation System"
   ]
  },
  {
   "cell_type": "code",
   "execution_count": 5,
   "metadata": {},
   "outputs": [
    {
     "name": "stdout",
     "output_type": "stream",
     "text": [
      "Number of images: 1016\n",
      "W: 800\n",
      "H: 600\n",
      "Gini Coefficient: 64.0\n",
      "Number of classes: 5\n",
      "Top models for training:\n",
      "1) yolov5x\n",
      "2) yolov5l\n",
      "3) yolov8x6\n"
     ]
    }
   ],
   "source": [
    "from ODRS.ODRS.api.odrs import ODRS\n",
    "odrs = ODRS(job=\"ml_recommend\", data_path='/media/farm/ssd_1_tb_evo_sumsung/ODRS/user_datasets/yolo/Aerial_Maritime', classes=\"classes.txt\",\n",
    "              gpu=True, accuracy=10, speed=1)\n",
    "odrs.fit()"
   ]
  },
  {
   "attachments": {},
   "cell_type": "markdown",
   "metadata": {},
   "source": [
    "# Model traning "
   ]
  },
  {
   "cell_type": "code",
   "execution_count": 3,
   "metadata": {},
   "outputs": [],
   "source": [
    "from ODRS.ODRS.api.odrs import ODRS\n",
    "#init object with parameters\n",
    "odrs_1 = ODRS(job=\"object_detection\", data_path = '/media/farm/ssd_1_tb_evo_sumsung/ODRS/user_datasets/yolo/Aerial_Maritime', classes = \"classes.txt\",\n",
    "                img_size = \"256\", batch_size = \"18\", epochs = \"3\",\n",
    "                model = 'yolov5l', gpu_count = 1, select_gpu = \"0\", config_path = \"dataset.yaml\", \n",
    "                split_train_value = 0.6, split_test_value = 0.35, split_val_value = 0.05)"
   ]
  },
  {
   "cell_type": "code",
   "execution_count": 4,
   "metadata": {},
   "outputs": [
    {
     "name": "stderr",
     "output_type": "stream",
     "text": [
      "2023-08-10 16:49:57.540 | INFO     | ODRS.data_utils.create_config:create_config_data:117 - Create config file\n",
      "\u001b[34m\u001b[1mwandb\u001b[0m: WARNING ⚠️ wandb is deprecated and will be removed in a future release. See supported integrations at https://github.com/ultralytics/yolov5#integrations.\n",
      "wandb: Currently logged in as: asmetanin. Use `wandb login --relogin` to force relogin\n",
      "\u001b[34m\u001b[1mtrain: \u001b[0mweights=ODRS/ODRS/train_utils/train_model/models/yolov5/yolov5s.pt, cfg=/media/farm/ssd_1_tb_evo_sumsung/ODRS/ODRS/train_utils/train_model/models/yolov5/models/yolov5l.yaml, data=/media/farm/ssd_1_tb_evo_sumsung/ODRS/runs/2023-08-10_16-49-57_yolov5/dataset.yaml, hyp=ODRS/ODRS/train_utils/train_model/models/yolov5/data/hyps/hyp.scratch-low.yaml, epochs=3, batch_size=18, imgsz=256, rect=False, resume=False, nosave=False, noval=False, noautoanchor=False, noplots=False, evolve=None, bucket=, cache=None, image_weights=False, device=0, multi_scale=False, single_cls=False, optimizer=SGD, sync_bn=False, workers=8, project=/media/farm/ssd_1_tb_evo_sumsung/ODRS/runs/2023-08-10_16-49-57_yolov5, name=exp, exist_ok=False, quad=False, cos_lr=False, label_smoothing=0.0, patience=100, freeze=[0], save_period=-1, seed=0, local_rank=-1, entity=None, upload_dataset=False, bbox_interval=-1, artifact_alias=latest\n",
      "YOLOv5 🚀 2023-8-3 Python-3.8.17 torch-1.13.1+cu117 CUDA:0 (NVIDIA RTX A5000, 24256MiB)\n",
      "\n",
      "\u001b[34m\u001b[1mhyperparameters: \u001b[0mlr0=0.01, lrf=0.01, momentum=0.937, weight_decay=0.0005, warmup_epochs=3.0, warmup_momentum=0.8, warmup_bias_lr=0.1, box=0.05, cls=0.5, cls_pw=1.0, obj=1.0, obj_pw=1.0, iou_t=0.2, anchor_t=4.0, fl_gamma=0.0, hsv_h=0.015, hsv_s=0.7, hsv_v=0.4, degrees=0.0, translate=0.1, scale=0.5, shear=0.0, perspective=0.0, flipud=0.0, fliplr=0.5, mosaic=1.0, mixup=0.0, copy_paste=0.0\n",
      "\u001b[34m\u001b[1mClearML: \u001b[0mrun 'pip install clearml' to automatically track, visualize and remotely train YOLOv5 🚀 in ClearML\n",
      "\u001b[34m\u001b[1mComet: \u001b[0mrun 'pip install comet_ml' to automatically track and visualize YOLOv5 🚀 runs in Comet\n",
      "\u001b[34m\u001b[1mTensorBoard: \u001b[0mStart with 'tensorboard --logdir /media/farm/ssd_1_tb_evo_sumsung/ODRS/runs/2023-08-10_16-49-57_yolov5', view at http://localhost:6006/\n",
      "2023-08-10 16:50:03.776314: I tensorflow/core/platform/cpu_feature_guard.cc:193] This TensorFlow binary is optimized with oneAPI Deep Neural Network Library (oneDNN) to use the following CPU instructions in performance-critical operations:  AVX2 FMA\n",
      "To enable them in other operations, rebuild TensorFlow with the appropriate compiler flags.\n"
     ]
    },
    {
     "name": "stdout",
     "output_type": "stream",
     "text": [
      "\u001b[34m\u001b[1mgithub: \u001b[0mskipping check (not a git repository), for updates see https://github.com/ultralytics/yolov5\n"
     ]
    },
    {
     "name": "stderr",
     "output_type": "stream",
     "text": [
      "2023-08-10 16:50:04.619481: W tensorflow/compiler/xla/stream_executor/platform/default/dso_loader.cc:64] Could not load dynamic library 'libnvinfer.so.7'; dlerror: libnvinfer.so.7: cannot open shared object file: No such file or directory; LD_LIBRARY_PATH: /home/farm/anaconda3/envs/test/lib/python3.8/site-packages/cv2/../../lib64:/home/farm/anaconda3/envs/test/lib/python3.8/site-packages/cv2/../../lib64:\n",
      "2023-08-10 16:50:04.619895: W tensorflow/compiler/xla/stream_executor/platform/default/dso_loader.cc:64] Could not load dynamic library 'libnvinfer_plugin.so.7'; dlerror: libnvinfer_plugin.so.7: cannot open shared object file: No such file or directory; LD_LIBRARY_PATH: /home/farm/anaconda3/envs/test/lib/python3.8/site-packages/cv2/../../lib64:/home/farm/anaconda3/envs/test/lib/python3.8/site-packages/cv2/../../lib64:\n",
      "2023-08-10 16:50:04.619910: W tensorflow/compiler/tf2tensorrt/utils/py_utils.cc:38] TF-TRT Warning: Cannot dlopen some TensorRT libraries. If you would like to use Nvidia GPU with TensorRT, please make sure the missing libraries mentioned above are installed properly.\n",
      "wandb: Tracking run with wandb version 0.15.8\n",
      "wandb: Run data is saved locally in /media/farm/ssd_1_tb_evo_sumsung/wandb/run-20230810_165005-n5zvur8a\n",
      "wandb: Run `wandb offline` to turn off syncing.\n",
      "wandb: Syncing run efficient-vortex-1\n",
      "wandb: ⭐️ View project at https://wandb.ai/asmetanin/2023-08-10_16-49-57_yolov5\n",
      "wandb: 🚀 View run at https://wandb.ai/asmetanin/2023-08-10_16-49-57_yolov5/runs/n5zvur8a\n",
      "Overriding model.yaml nc=80 with nc=5\n",
      "\n",
      "                 from  n    params  module                                  arguments                     \n",
      "  0                -1  1      7040  models.common.Conv                      [3, 64, 6, 2, 2]              \n",
      "  1                -1  1     73984  models.common.Conv                      [64, 128, 3, 2]               \n",
      "  2                -1  3    156928  models.common.C3                        [128, 128, 3]                 \n",
      "  3                -1  1    295424  models.common.Conv                      [128, 256, 3, 2]              \n",
      "  4                -1  6   1118208  models.common.C3                        [256, 256, 6]                 \n",
      "  5                -1  1   1180672  models.common.Conv                      [256, 512, 3, 2]              \n",
      "  6                -1  9   6433792  models.common.C3                        [512, 512, 9]                 \n",
      "  7                -1  1   4720640  models.common.Conv                      [512, 1024, 3, 2]             \n",
      "  8                -1  3   9971712  models.common.C3                        [1024, 1024, 3]               \n",
      "  9                -1  1   2624512  models.common.SPPF                      [1024, 1024, 5]               \n",
      " 10                -1  1    525312  models.common.Conv                      [1024, 512, 1, 1]             \n",
      " 11                -1  1         0  torch.nn.modules.upsampling.Upsample    [None, 2, 'nearest']          \n",
      " 12           [-1, 6]  1         0  models.common.Concat                    [1]                           \n",
      " 13                -1  3   2757632  models.common.C3                        [1024, 512, 3, False]         \n",
      " 14                -1  1    131584  models.common.Conv                      [512, 256, 1, 1]              \n",
      " 15                -1  1         0  torch.nn.modules.upsampling.Upsample    [None, 2, 'nearest']          \n",
      " 16           [-1, 4]  1         0  models.common.Concat                    [1]                           \n",
      " 17                -1  3    690688  models.common.C3                        [512, 256, 3, False]          \n",
      " 18                -1  1    590336  models.common.Conv                      [256, 256, 3, 2]              \n",
      " 19          [-1, 14]  1         0  models.common.Concat                    [1]                           \n",
      " 20                -1  3   2495488  models.common.C3                        [512, 512, 3, False]          \n",
      " 21                -1  1   2360320  models.common.Conv                      [512, 512, 3, 2]              \n",
      " 22          [-1, 10]  1         0  models.common.Concat                    [1]                           \n",
      " 23                -1  3   9971712  models.common.C3                        [1024, 1024, 3, False]        \n",
      " 24      [17, 20, 23]  1     53850  models.yolo.Detect                      [5, [[10, 13, 16, 30, 33, 23], [30, 61, 62, 45, 59, 119], [116, 90, 156, 198, 373, 326]], [256, 512, 1024]]\n",
      "YOLOv5l summary: 368 layers, 46159834 parameters, 46159834 gradients, 108.3 GFLOPs\n",
      "\n",
      "Transferred 57/613 items from ODRS/ODRS/train_utils/train_model/models/yolov5/yolov5s.pt\n",
      "\u001b[34m\u001b[1mAMP: \u001b[0mchecks passed ✅\n",
      "\u001b[34m\u001b[1moptimizer:\u001b[0m SGD(lr=0.01) with parameter groups 101 weight(decay=0.0), 104 weight(decay=0.0005625000000000001), 104 bias\n",
      "\u001b[34m\u001b[1malbumentations: \u001b[0mBlur(p=0.01, blur_limit=(3, 7)), MedianBlur(p=0.01, blur_limit=(3, 7)), ToGray(p=0.01), CLAHE(p=0.01, clip_limit=(1, 4.0), tile_grid_size=(8, 8))\n",
      "\u001b[34m\u001b[1mtrain: \u001b[0mScanning /media/farm/ssd_1_tb_evo_sumsung/ODRS/user_datasets/yolo/Aerial_Maritime/train/labels... 371 images, 0 backgrounds, 0 corrupt: 100%|██████████| 371/371 [00:00<00:00, 4001.47it/s]\n",
      "\u001b[34m\u001b[1mtrain: \u001b[0mNew cache created: /media/farm/ssd_1_tb_evo_sumsung/ODRS/user_datasets/yolo/Aerial_Maritime/train/labels.cache\n",
      "\u001b[34m\u001b[1mval: \u001b[0mScanning /media/farm/ssd_1_tb_evo_sumsung/ODRS/user_datasets/yolo/Aerial_Maritime/valid/labels... 105 images, 0 backgrounds, 0 corrupt: 100%|██████████| 105/105 [00:00<00:00, 3244.83it/s]\n",
      "\u001b[34m\u001b[1mval: \u001b[0mNew cache created: /media/farm/ssd_1_tb_evo_sumsung/ODRS/user_datasets/yolo/Aerial_Maritime/valid/labels.cache\n",
      "\n",
      "\u001b[34m\u001b[1mAutoAnchor: \u001b[0m5.20 anchors/target, 0.969 Best Possible Recall (BPR). Anchors are a poor fit to dataset ⚠️, attempting to improve...\n",
      "\u001b[34m\u001b[1mAutoAnchor: \u001b[0mWARNING ⚠️ Extremely small objects found: 25 of 1237 labels are <3 pixels in size\n",
      "\u001b[34m\u001b[1mAutoAnchor: \u001b[0mRunning kmeans for 9 anchors on 1237 points...\n",
      "\u001b[34m\u001b[1mAutoAnchor: \u001b[0mEvolving anchors with Genetic Algorithm: fitness = 0.7605: 100%|██████████| 1000/1000 [00:00<00:00, 1757.18it/s]\n",
      "\u001b[34m\u001b[1mAutoAnchor: \u001b[0mthr=0.25: 0.9806 best possible recall, 6.73 anchors past thr\n",
      "\u001b[34m\u001b[1mAutoAnchor: \u001b[0mn=9, img_size=256, metric_all=0.424/0.763-mean/best, past_thr=0.512-mean: 24,17, 52,10, 12,43, 30,32, 60,26, 31,57, 57,44, 48,63, 78,77\n",
      "\u001b[34m\u001b[1mAutoAnchor: \u001b[0mDone ✅ (optional: update model *.yaml to use these anchors in the future)\n",
      "Plotting labels to /media/farm/ssd_1_tb_evo_sumsung/ODRS/runs/2023-08-10_16-49-57_yolov5/exp/labels.jpg... \n",
      "Image sizes 256 train, 256 val\n",
      "Using 8 dataloader workers\n",
      "Logging results to \u001b[1m/media/farm/ssd_1_tb_evo_sumsung/ODRS/runs/2023-08-10_16-49-57_yolov5/exp\u001b[0m\n",
      "Starting training for 3 epochs...\n",
      "\n",
      "      Epoch    GPU_mem   box_loss   obj_loss   cls_loss  Instances       Size\n",
      "        0/2      2.69G     0.1201    0.02716    0.05073         65        256: 100%|██████████| 21/21 [00:11<00:00,  1.88it/s]\n",
      "                 Class     Images  Instances          P          R      mAP50   mAP50-95: 100%|██████████| 3/3 [00:00<00:00,  5.30it/s]\n",
      "                   all        105        265     0.0028      0.287    0.00237   0.000617\n",
      "\n",
      "      Epoch    GPU_mem   box_loss   obj_loss   cls_loss  Instances       Size\n",
      "        1/2      2.69G     0.1163    0.02847    0.04979         31        256: 100%|██████████| 21/21 [00:03<00:00,  5.51it/s]\n",
      "                 Class     Images  Instances          P          R      mAP50   mAP50-95: 100%|██████████| 3/3 [00:00<00:00,  5.40it/s]\n",
      "                   all        105        265    0.00267      0.272    0.00243   0.000624\n",
      "\n",
      "      Epoch    GPU_mem   box_loss   obj_loss   cls_loss  Instances       Size\n",
      "        2/2      2.69G     0.1136     0.0311    0.04926         40        256: 100%|██████████| 21/21 [00:03<00:00,  6.01it/s]\n",
      "                 Class     Images  Instances          P          R      mAP50   mAP50-95: 100%|██████████| 3/3 [00:00<00:00,  4.88it/s]\n",
      "                   all        105        265    0.00269      0.273    0.00257   0.000654\n",
      "\n",
      "3 epochs completed in 0.017 hours.\n",
      "Optimizer stripped from /media/farm/ssd_1_tb_evo_sumsung/ODRS/runs/2023-08-10_16-49-57_yolov5/exp/weights/last.pt, 92.7MB\n",
      "Optimizer stripped from /media/farm/ssd_1_tb_evo_sumsung/ODRS/runs/2023-08-10_16-49-57_yolov5/exp/weights/best.pt, 92.7MB\n",
      "\n",
      "Validating /media/farm/ssd_1_tb_evo_sumsung/ODRS/runs/2023-08-10_16-49-57_yolov5/exp/weights/best.pt...\n",
      "Fusing layers... \n",
      "YOLOv5l summary: 267 layers, 46129818 parameters, 0 gradients, 107.7 GFLOPs\n",
      "                 Class     Images  Instances          P          R      mAP50   mAP50-95: 100%|██████████| 3/3 [00:02<00:00,  1.30it/s]\n",
      "                   all        105        265    0.00269      0.273    0.00302   0.000752\n",
      "                  boat        105          9          0          0          0          0\n",
      "                   car        105         22    0.00145      0.318    0.00115   0.000216\n",
      "                  dock        105        122    0.00416      0.451    0.00654    0.00173\n",
      "                jetski        105         17   0.000151     0.0588   8.64e-05   3.46e-05\n",
      "                  lift        105         95    0.00771      0.537    0.00733    0.00178\n",
      "Results saved to \u001b[1m/media/farm/ssd_1_tb_evo_sumsung/ODRS/runs/2023-08-10_16-49-57_yolov5/exp\u001b[0m\n",
      "wandb: Waiting for W&B process to finish... (success).\n",
      "wandb: \n",
      "wandb: Run history:\n",
      "wandb:      metrics/mAP_0.5 ▁▂▃█\n",
      "wandb: metrics/mAP_0.5:0.95 ▁▁▃█\n",
      "wandb:    metrics/precision █▁▂▂\n",
      "wandb:       metrics/recall █▁▁▁\n",
      "wandb:       train/box_loss █▄▁\n",
      "wandb:       train/cls_loss █▄▁\n",
      "wandb:       train/obj_loss ▁▃█\n",
      "wandb:         val/box_loss █▅▁▁\n",
      "wandb:         val/cls_loss █▅▁▁\n",
      "wandb:         val/obj_loss ▁▄██\n",
      "wandb:                x/lr0 █▅▁\n",
      "wandb:                x/lr1 ▁█▂\n",
      "wandb:                x/lr2 ▁█▂\n",
      "wandb: \n",
      "wandb: Run summary:\n",
      "wandb:           best/epoch 2\n",
      "wandb:         best/mAP_0.5 0.00257\n",
      "wandb:    best/mAP_0.5:0.95 0.00065\n",
      "wandb:       best/precision 0.00269\n",
      "wandb:          best/recall 0.27293\n",
      "wandb:      metrics/mAP_0.5 0.00302\n",
      "wandb: metrics/mAP_0.5:0.95 0.00075\n",
      "wandb:    metrics/precision 0.00269\n",
      "wandb:       metrics/recall 0.27293\n",
      "wandb:       train/box_loss 0.1136\n",
      "wandb:       train/cls_loss 0.04926\n",
      "wandb:       train/obj_loss 0.0311\n",
      "wandb:         val/box_loss 0.10766\n",
      "wandb:         val/cls_loss 0.0484\n",
      "wandb:         val/obj_loss 0.01773\n",
      "wandb:                x/lr0 0.04011\n",
      "wandb:                x/lr1 0.00211\n",
      "wandb:                x/lr2 0.00211\n",
      "wandb: \n",
      "wandb: 🚀 View run efficient-vortex-1 at: https://wandb.ai/asmetanin/2023-08-10_16-49-57_yolov5/runs/n5zvur8a\n",
      "wandb: Synced 6 W&B file(s), 17 media file(s), 1 artifact file(s) and 0 other file(s)\n",
      "wandb: Find logs at: ./wandb/run-20230810_165005-n5zvur8a/logs\n",
      "\u001b[34m\u001b[1mwandb\u001b[0m: WARNING ⚠️ wandb is deprecated and will be removed in a future release. See supported integrations at https://github.com/ultralytics/yolov5#integrations.\n"
     ]
    }
   ],
   "source": [
    "# start tranning\n",
    "odrs_1.fit()"
   ]
  },
  {
   "cell_type": "code",
   "execution_count": null,
   "metadata": {},
   "outputs": [],
   "source": []
  }
 ],
 "metadata": {
  "kernelspec": {
   "display_name": "test",
   "language": "python",
   "name": "python3"
  },
  "language_info": {
   "codemirror_mode": {
    "name": "ipython",
    "version": 3
   },
   "file_extension": ".py",
   "mimetype": "text/x-python",
   "name": "python",
   "nbconvert_exporter": "python",
   "pygments_lexer": "ipython3",
   "version": "3.8.17"
  },
  "orig_nbformat": 4
 },
 "nbformat": 4,
 "nbformat_minor": 2
}
