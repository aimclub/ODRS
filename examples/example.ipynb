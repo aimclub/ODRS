{
 "cells": [
  {
   "cell_type": "markdown",
   "metadata": {},
   "source": [
    "# Cloning a repository and installing dependencies"
   ]
  },
  {
   "cell_type": "code",
   "execution_count": 2,
   "metadata": {},
   "outputs": [
    {
     "name": "stdout",
     "output_type": "stream",
     "text": [
      "/media/farm/ssd_1_tb_evo_sumsung\n"
     ]
    }
   ],
   "source": [
    "!git clone https://github.com/saaresearch/ODRS.git\n",
    "%cd ODRS/\n",
    "!pip install -r requirements.txt \n",
    "%cd .."
   ]
  },
  {
   "attachments": {},
   "cell_type": "markdown",
   "metadata": {},
   "source": [
    "# ML Recommendation System"
   ]
  },
  {
   "attachments": {},
   "cell_type": "markdown",
   "metadata": {},
   "source": [
    "1. `cd ODRS/`;\n",
    "2. Put your dataset in yolo format in the user_datasets/yolo directory;\n",
    "3. Add to the root directory of the project .txt a file containing the names of all classes in your set of images;\n",
    "4. `cd ODRS/src/ML/config/`, open file ml_config.yaml and set your parameters; \n",
    "5. `cd ..`;\n",
    "6. Run script: `python3 run_recommender.py`."
   ]
  },
  {
   "cell_type": "code",
   "execution_count": 2,
   "metadata": {},
   "outputs": [
    {
     "name": "stdout",
     "output_type": "stream",
     "text": [
      "/media/space/ssd_1_tb_evo_sumsung1/exp-train/ODRS-update/ODRS/src/ML/config\n"
     ]
    }
   ],
   "source": [
    "%cd ODRS/src/ML/config/"
   ]
  },
  {
   "cell_type": "code",
   "execution_count": 3,
   "metadata": {},
   "outputs": [
    {
     "name": "stdout",
     "output_type": "stream",
     "text": [
      "Before\n"
     ]
    },
    {
     "data": {
      "text/plain": [
       "{'GPU': True,\n",
       " 'accuracy': False,\n",
       " 'balance': False,\n",
       " 'classes_path': 'classes.txt',\n",
       " 'dataset_path': '/media/space/ssd_1_tb_evo_sumsung1/exp-train/pad_1',\n",
       " 'speed': True}"
      ]
     },
     "metadata": {},
     "output_type": "display_data"
    },
    {
     "name": "stdout",
     "output_type": "stream",
     "text": [
      "After\n"
     ]
    },
    {
     "data": {
      "text/plain": [
       "{'GPU': True,\n",
       " 'accuracy': False,\n",
       " 'balance': False,\n",
       " 'classes_path': 'classes.txt',\n",
       " 'dataset_path': '/media/space/ssd_1_tb_evo_sumsung1/exp-train/pad_1',\n",
       " 'speed': True}"
      ]
     },
     "metadata": {},
     "output_type": "display_data"
    }
   ],
   "source": [
    "import yaml\n",
    "from IPython.display import display\n",
    "\n",
    "print(\"Before\")\n",
    "\n",
    "with open('ml_config.yaml', 'r') as yaml_file:\n",
    "    yaml_content = yaml.safe_load(yaml_file)\n",
    "    display(yaml_content)\n",
    "\n",
    "# Speed changing \n",
    "yaml_content['speed'] = True\n",
    "yaml_content['GPU'] = True\n",
    "with open('ml_config.yaml', 'w') as yaml_file:\n",
    "    yaml.dump(yaml_content, yaml_file)\n",
    "\n",
    "print(\"After\")\n",
    "\n",
    "with open('ml_config.yaml', 'r') as yaml_file:\n",
    "    yaml_content = yaml.safe_load(yaml_file)\n",
    "    display(yaml_content)"
   ]
  },
  {
   "cell_type": "code",
   "execution_count": 4,
   "metadata": {},
   "outputs": [
    {
     "name": "stdout",
     "output_type": "stream",
     "text": [
      "/media/space/ssd_1_tb_evo_sumsung1/exp-train/ODRS-update/ODRS/src/ML\n"
     ]
    }
   ],
   "source": [
    "%cd ..\n"
   ]
  },
  {
   "cell_type": "code",
   "execution_count": 5,
   "metadata": {},
   "outputs": [
    {
     "name": "stdout",
     "output_type": "stream",
     "text": [
      "\u001b[32m2024-06-24 12:57:59.597\u001b[0m | \u001b[33m\u001b[1mWARNING \u001b[0m | \u001b[36msrc.data_processing.data_utils.utils\u001b[0m:\u001b[36mget_data_path\u001b[0m:\u001b[36m70\u001b[0m - \u001b[33m\u001b[1mThe dataset folder is already exist.\u001b[0m\n",
      "\u001b[32m2024-06-24 12:57:59.597\u001b[0m | \u001b[1mINFO    \u001b[0m | \u001b[36msrc.data_processing.data_utils.split_dataset\u001b[0m:\u001b[36msplit_data\u001b[0m:\u001b[36m35\u001b[0m - \u001b[1mDataset is ready\u001b[0m\n",
      "Image analyze: 100%|████████████████████████████| 36/36 [00:09<00:00,  3.75it/s]\n",
      "Annotation analyze: 100%|█████████████████████| 36/36 [00:00<00:00, 9946.97it/s]\n",
      "\u001b[32m2024-06-24 12:58:14.981\u001b[0m | \u001b[1mINFO    \u001b[0m | \u001b[36m__main__\u001b[0m:\u001b[36mpredict\u001b[0m:\u001b[36m64\u001b[0m - \u001b[1mTop models for training:\u001b[0m\n",
      "\u001b[32m2024-06-24 12:58:14.981\u001b[0m | \u001b[1mINFO    \u001b[0m | \u001b[36m__main__\u001b[0m:\u001b[36mpredict\u001b[0m:\u001b[36m66\u001b[0m - \u001b[1m1) yolov5n\u001b[0m\n",
      "\u001b[32m2024-06-24 12:58:14.981\u001b[0m | \u001b[1mINFO    \u001b[0m | \u001b[36m__main__\u001b[0m:\u001b[36mpredict\u001b[0m:\u001b[36m66\u001b[0m - \u001b[1m2) yolov8n\u001b[0m\n",
      "\u001b[32m2024-06-24 12:58:14.981\u001b[0m | \u001b[1mINFO    \u001b[0m | \u001b[36m__main__\u001b[0m:\u001b[36mpredict\u001b[0m:\u001b[36m66\u001b[0m - \u001b[1m3) yolov5s\u001b[0m\n",
      "\u001b[0m"
     ]
    }
   ],
   "source": [
    "!python3 run_recommender.py"
   ]
  },
  {
   "attachments": {},
   "cell_type": "markdown",
   "metadata": {},
   "source": [
    "# Model traning "
   ]
  },
  {
   "attachments": {},
   "cell_type": "markdown",
   "metadata": {},
   "source": [
    "1. `cd ODRS/`;\n",
    "2. Put your dataset in yolo format in the user_datasets/yolo directory;\n",
    "3. Add to the root directory of the project .txt a file containing the names of all classes in your set of images;\n",
    "4. `cd ODRS/src/DL/config/`, open file train_config.yaml and set your parameters; \n",
    "5. `cd ..`;\n",
    "6. Run script: `python3 train_detectors.py `."
   ]
  },
  {
   "cell_type": "code",
   "execution_count": 1,
   "metadata": {},
   "outputs": [
    {
     "name": "stdout",
     "output_type": "stream",
     "text": [
      "/media/space/ssd_1_tb_evo_sumsung1/exp-train/ODRS-update/ODRS/src/DL/config\n"
     ]
    }
   ],
   "source": [
    "%cd ODRS/src/DL/config/"
   ]
  },
  {
   "cell_type": "code",
   "execution_count": 2,
   "metadata": {},
   "outputs": [
    {
     "name": "stdout",
     "output_type": "stream",
     "text": [
      "Before\n"
     ]
    },
    {
     "data": {
      "text/plain": [
       "{'BATCH_SIZE': 20,\n",
       " 'CLASSES': 'classes.txt',\n",
       " 'DATA_PATH': '/media/space/ssd_1_tb_evo_sumsung1/exp-train/pad_1',\n",
       " 'EPOCHS': 1,\n",
       " 'GPU_COUNT': 0,\n",
       " 'IMG_SIZE': 300,\n",
       " 'MODEL': 'yolov5n',\n",
       " 'SELECT_GPU': 'cpu',\n",
       " 'SPLIT_TRAIN_VALUE': 0.85,\n",
       " 'SPLIT_VAL_VALUE': 0.1}"
      ]
     },
     "metadata": {},
     "output_type": "display_data"
    },
    {
     "name": "stdout",
     "output_type": "stream",
     "text": [
      "After\n"
     ]
    },
    {
     "data": {
      "text/plain": [
       "{'BATCH_SIZE': 20,\n",
       " 'CLASSES': 'classes.txt',\n",
       " 'DATA_PATH': '/media/space/ssd_1_tb_evo_sumsung1/exp-train/pad_1',\n",
       " 'EPOCHS': 1,\n",
       " 'GPU_COUNT': 0,\n",
       " 'IMG_SIZE': 300,\n",
       " 'MODEL': 'yolov5n',\n",
       " 'SELECT_GPU': 'cpu',\n",
       " 'SPLIT_TRAIN_VALUE': 0.85,\n",
       " 'SPLIT_VAL_VALUE': 0.1}"
      ]
     },
     "metadata": {},
     "output_type": "display_data"
    }
   ],
   "source": [
    "import yaml\n",
    "from IPython.display import display\n",
    "\n",
    "print(\"Before\")\n",
    "\n",
    "with open('train_config.yaml', 'r') as yaml_file:\n",
    "    yaml_content = yaml.safe_load(yaml_file)\n",
    "    display(yaml_content)\n",
    "\n",
    "# Speed changing \n",
    "yaml_content['MODEL'] = 'yolov5n'\n",
    "yaml_content['DATA_PATH'] = '/media/space/ssd_1_tb_evo_sumsung1/exp-train/pad_1'\n",
    "with open('train_config.yaml', 'w') as yaml_file:\n",
    "    yaml.dump(yaml_content, yaml_file)\n",
    "\n",
    "print(\"After\")\n",
    "\n",
    "with open('train_config.yaml', 'r') as yaml_file:\n",
    "    yaml_content = yaml.safe_load(yaml_file)\n",
    "    display(yaml_content)"
   ]
  },
  {
   "cell_type": "code",
   "execution_count": 3,
   "metadata": {},
   "outputs": [
    {
     "name": "stdout",
     "output_type": "stream",
     "text": [
      "/media/space/ssd_1_tb_evo_sumsung1/exp-train/ODRS-update/ODRS/src/DL\n"
     ]
    }
   ],
   "source": [
    "%cd ..\n"
   ]
  },
  {
   "cell_type": "code",
   "execution_count": 5,
   "metadata": {},
   "outputs": [
    {
     "name": "stdout",
     "output_type": "stream",
     "text": [
      "\u001b[32m2024-06-24 13:22:33.079\u001b[0m | \u001b[33m\u001b[1mWARNING \u001b[0m | \u001b[36msrc.data_processing.data_utils.utils\u001b[0m:\u001b[36mget_data_path\u001b[0m:\u001b[36m70\u001b[0m - \u001b[33m\u001b[1mThe dataset folder is already exist.\u001b[0m\n",
      "\u001b[32m2024-06-24 13:22:33.079\u001b[0m | \u001b[1mINFO    \u001b[0m | \u001b[36msrc.data_processing.data_utils.split_dataset\u001b[0m:\u001b[36msplit_data\u001b[0m:\u001b[36m35\u001b[0m - \u001b[1mDataset is ready\u001b[0m\n",
      "\u001b[32m2024-06-24 13:22:33.081\u001b[0m | \u001b[1mINFO    \u001b[0m | \u001b[36msrc.data_processing.train_processing.prepare_train\u001b[0m:\u001b[36mcreate_config_data\u001b[0m:\u001b[36m153\u001b[0m - \u001b[1mCreate config file\u001b[0m\n",
      "\u001b[34m\u001b[1mwandb\u001b[0m: WARNING ⚠️ wandb is deprecated and will be removed in a future release. See supported integrations at https://github.com/ultralytics/yolov5#integrations.\n",
      "\u001b[34m\u001b[1mwandb\u001b[0m: Currently logged in as: \u001b[33masmetanin\u001b[0m. Use \u001b[1m`wandb login --relogin`\u001b[0m to force relogin\n",
      "\u001b[34m\u001b[1mtrain: \u001b[0mweights=train_models/models/yolov5/yolov5s.pt, cfg=/media/space/ssd_1_tb_evo_sumsung1/exp-train/ODRS-update/ODRS/src/DL/train_models/models/yolov5/models/yolov5n.yaml, data=/media/space/ssd_1_tb_evo_sumsung1/exp-train/ODRS-update/ODRS/runs/2024-06-24_13-22-33_yolov5n/dataset.yaml, hyp=train_models/models/yolov5/data/hyps/hyp.scratch-low.yaml, epochs=1, batch_size=20, imgsz=300, rect=False, resume=False, nosave=False, noval=False, noautoanchor=False, noplots=False, evolve=None, bucket=, cache=None, image_weights=False, device=cpu, multi_scale=False, single_cls=False, optimizer=SGD, sync_bn=False, workers=8, project=/media/space/ssd_1_tb_evo_sumsung1/exp-train/ODRS-update/ODRS/runs/2024-06-24_13-22-33_yolov5n, name=exp, exist_ok=False, quad=False, cos_lr=False, label_smoothing=0.0, patience=100, freeze=[0], save_period=-1, seed=0, local_rank=-1, entity=None, upload_dataset=False, bbox_interval=-1, artifact_alias=latest\n",
      "\u001b[34m\u001b[1mgithub: \u001b[0mskipping check (not a git repository), for updates see https://github.com/ultralytics/yolov5\n",
      "YOLOv5 🚀 2024-3-27 Python-3.8.10 torch-1.13.1+cu117 CPU\n",
      "\n",
      "\u001b[34m\u001b[1mhyperparameters: \u001b[0mlr0=0.01, lrf=0.01, momentum=0.937, weight_decay=0.0005, warmup_epochs=3.0, warmup_momentum=0.8, warmup_bias_lr=0.1, box=0.05, cls=0.5, cls_pw=1.0, obj=1.0, obj_pw=1.0, iou_t=0.2, anchor_t=4.0, fl_gamma=0.0, hsv_h=0.015, hsv_s=0.7, hsv_v=0.4, degrees=0.0, translate=0.1, scale=0.5, shear=0.0, perspective=0.0, flipud=0.0, fliplr=0.5, mosaic=1.0, mixup=0.0, copy_paste=0.0\n",
      "\u001b[34m\u001b[1mClearML: \u001b[0mrun 'pip install clearml' to automatically track, visualize and remotely train YOLOv5 🚀 in ClearML\n",
      "\u001b[34m\u001b[1mComet: \u001b[0mrun 'pip install comet_ml' to automatically track and visualize YOLOv5 🚀 runs in Comet\n",
      "\u001b[34m\u001b[1mTensorBoard: \u001b[0mStart with 'tensorboard --logdir /media/space/ssd_1_tb_evo_sumsung1/exp-train/ODRS-update/ODRS/runs/2024-06-24_13-22-33_yolov5n', view at http://localhost:6006/\n",
      "\u001b[34m\u001b[1mwandb\u001b[0m: wandb version 0.17.2 is available!  To upgrade, please run:\n",
      "\u001b[34m\u001b[1mwandb\u001b[0m:  $ pip install wandb --upgrade\n",
      "\u001b[34m\u001b[1mwandb\u001b[0m: Tracking run with wandb version 0.15.8\n",
      "\u001b[34m\u001b[1mwandb\u001b[0m: Run data is saved locally in \u001b[35m\u001b[1m/media/space/ssd_1_tb_evo_sumsung1/exp-train/ODRS-update/ODRS/src/DL/wandb/run-20240624_132235-lldqojbm\u001b[0m\n",
      "\u001b[34m\u001b[1mwandb\u001b[0m: Run \u001b[1m`wandb offline`\u001b[0m to turn off syncing.\n",
      "\u001b[34m\u001b[1mwandb\u001b[0m: Syncing run \u001b[33mpleasant-haze-1\u001b[0m\n",
      "\u001b[34m\u001b[1mwandb\u001b[0m: ⭐️ View project at \u001b[34m\u001b[4mhttps://wandb.ai/asmetanin/2024-06-24_13-22-33_yolov5n\u001b[0m\n",
      "\u001b[34m\u001b[1mwandb\u001b[0m: 🚀 View run at \u001b[34m\u001b[4mhttps://wandb.ai/asmetanin/2024-06-24_13-22-33_yolov5n/runs/lldqojbm\u001b[0m\n",
      "Overriding model.yaml nc=80 with nc=28\n",
      "\n",
      "                 from  n    params  module                                  arguments                     \n",
      "  0                -1  1      1760  models.common.Conv                      [3, 16, 6, 2, 2]              \n",
      "  1                -1  1      4672  models.common.Conv                      [16, 32, 3, 2]                \n",
      "  2                -1  1      4800  models.common.C3                        [32, 32, 1]                   \n",
      "  3                -1  1     18560  models.common.Conv                      [32, 64, 3, 2]                \n",
      "  4                -1  2     29184  models.common.C3                        [64, 64, 2]                   \n",
      "  5                -1  1     73984  models.common.Conv                      [64, 128, 3, 2]               \n",
      "  6                -1  3    156928  models.common.C3                        [128, 128, 3]                 \n",
      "  7                -1  1    295424  models.common.Conv                      [128, 256, 3, 2]              \n",
      "  8                -1  1    296448  models.common.C3                        [256, 256, 1]                 \n",
      "  9                -1  1    164608  models.common.SPPF                      [256, 256, 5]                 \n",
      " 10                -1  1     33024  models.common.Conv                      [256, 128, 1, 1]              \n",
      " 11                -1  1         0  torch.nn.modules.upsampling.Upsample    [None, 2, 'nearest']          \n",
      " 12           [-1, 6]  1         0  models.common.Concat                    [1]                           \n",
      " 13                -1  1     90880  models.common.C3                        [256, 128, 1, False]          \n",
      " 14                -1  1      8320  models.common.Conv                      [128, 64, 1, 1]               \n",
      " 15                -1  1         0  torch.nn.modules.upsampling.Upsample    [None, 2, 'nearest']          \n",
      " 16           [-1, 4]  1         0  models.common.Concat                    [1]                           \n",
      " 17                -1  1     22912  models.common.C3                        [128, 64, 1, False]           \n",
      " 18                -1  1     36992  models.common.Conv                      [64, 64, 3, 2]                \n",
      " 19          [-1, 14]  1         0  models.common.Concat                    [1]                           \n",
      " 20                -1  1     74496  models.common.C3                        [128, 128, 1, False]          \n",
      " 21                -1  1    147712  models.common.Conv                      [128, 128, 3, 2]              \n",
      " 22          [-1, 10]  1         0  models.common.Concat                    [1]                           \n",
      " 23                -1  1    296448  models.common.C3                        [256, 256, 1, False]          \n",
      " 24      [17, 20, 23]  1     44649  models.yolo.Detect                      [28, [[10, 13, 16, 30, 33, 23], [30, 61, 62, 45, 59, 119], [116, 90, 156, 198, 373, 326]], [64, 128, 256]]\n",
      "YOLOv5n summary: 214 layers, 1801801 parameters, 1801801 gradients, 4.3 GFLOPs\n",
      "\n",
      "Transferred 57/349 items from train_models/models/yolov5/yolov5s.pt\n",
      "WARNING ⚠️ --img-size 300 must be multiple of max stride 32, updating to 320\n",
      "\u001b[34m\u001b[1moptimizer:\u001b[0m SGD(lr=0.01) with parameter groups 57 weight(decay=0.0), 60 weight(decay=0.00046875), 60 bias\n",
      "\u001b[34m\u001b[1malbumentations: \u001b[0mBlur(p=0.01, blur_limit=(3, 7)), MedianBlur(p=0.01, blur_limit=(3, 7)), ToGray(p=0.01), CLAHE(p=0.01, clip_limit=(1, 4.0), tile_grid_size=(8, 8))\n",
      "\u001b[34m\u001b[1mtrain: \u001b[0mScanning /media/space/ssd_1_tb_evo_sumsung1/exp-train/ODRS-update/ODRS/us\u001b[0m\n",
      "\u001b[34m\u001b[1mtrain: \u001b[0mNew cache created: /media/space/ssd_1_tb_evo_sumsung1/exp-train/ODRS-update/ODRS/user_datasets/pad_1/train/labels.cache\n",
      "\u001b[34m\u001b[1mval: \u001b[0mScanning /media/space/ssd_1_tb_evo_sumsung1/exp-train/ODRS-update/ODRS/user\u001b[0m\n",
      "\u001b[34m\u001b[1mval: \u001b[0mNew cache created: /media/space/ssd_1_tb_evo_sumsung1/exp-train/ODRS-update/ODRS/user_datasets/pad_1/valid/labels.cache\n",
      "\n",
      "\u001b[34m\u001b[1mAutoAnchor: \u001b[0m6.25 anchors/target, 1.000 Best Possible Recall (BPR). Current anchors are a good fit to dataset ✅\n",
      "Plotting labels to /media/space/ssd_1_tb_evo_sumsung1/exp-train/ODRS-update/ODRS/runs/2024-06-24_13-22-33_yolov5n/exp/labels.jpg... \n",
      "Image sizes 320 train, 320 val\n",
      "Using 8 dataloader workers\n",
      "Logging results to \u001b[1m/media/space/ssd_1_tb_evo_sumsung1/exp-train/ODRS-update/ODRS/runs/2024-06-24_13-22-33_yolov5n/exp\u001b[0m\n",
      "Starting training for 1 epochs...\n",
      "\n",
      "      Epoch    GPU_mem   box_loss   obj_loss   cls_loss  Instances       Size\n",
      "        0/0         0G     0.1155    0.02005    0.08412         32        320:  WARNING ⚠️ TensorBoard graph visualization failure Sizes of tensors must match except in dimension 1. Expected size 20 but got size 19 for tensor number 1 in the list.\n",
      "        0/0         0G     0.1155    0.02005    0.08412         32        320: 1\n",
      "                 Class     Images  Instances          P          R      mAP50   \n",
      "                   all         12         16          0          0          0          0\n",
      "\n",
      "1 epochs completed in 0.001 hours.\n",
      "Optimizer stripped from /media/space/ssd_1_tb_evo_sumsung1/exp-train/ODRS-update/ODRS/runs/2024-06-24_13-22-33_yolov5n/exp/weights/last.pt, 3.8MB\n",
      "Optimizer stripped from /media/space/ssd_1_tb_evo_sumsung1/exp-train/ODRS-update/ODRS/runs/2024-06-24_13-22-33_yolov5n/exp/weights/best.pt, 3.8MB\n",
      "\n",
      "Validating /media/space/ssd_1_tb_evo_sumsung1/exp-train/ODRS-update/ODRS/runs/2024-06-24_13-22-33_yolov5n/exp/weights/best.pt...\n",
      "Fusing layers... \n",
      "YOLOv5n summary: 157 layers, 1797049 parameters, 0 gradients, 4.2 GFLOPs\n",
      "                 Class     Images  Instances          P          R      mAP50   \n",
      "                   all         12         16          0          0          0          0\n",
      "Results saved to \u001b[1m/media/space/ssd_1_tb_evo_sumsung1/exp-train/ODRS-update/ODRS/runs/2024-06-24_13-22-33_yolov5n/exp\u001b[0m\n",
      "\u001b[34m\u001b[1mwandb\u001b[0m: Waiting for W&B process to finish... \u001b[32m(success).\u001b[0m\n",
      "\u001b[34m\u001b[1mwandb\u001b[0m: \n",
      "\u001b[34m\u001b[1mwandb\u001b[0m: Run history:\n",
      "\u001b[34m\u001b[1mwandb\u001b[0m:      metrics/mAP_0.5 ▁▁\n",
      "\u001b[34m\u001b[1mwandb\u001b[0m: metrics/mAP_0.5:0.95 ▁▁\n",
      "\u001b[34m\u001b[1mwandb\u001b[0m:    metrics/precision ▁▁\n",
      "\u001b[34m\u001b[1mwandb\u001b[0m:       metrics/recall ▁▁\n",
      "\u001b[34m\u001b[1mwandb\u001b[0m:       train/box_loss ▁\n",
      "\u001b[34m\u001b[1mwandb\u001b[0m:       train/cls_loss ▁\n",
      "\u001b[34m\u001b[1mwandb\u001b[0m:       train/obj_loss ▁\n",
      "\u001b[34m\u001b[1mwandb\u001b[0m:         val/box_loss ▁█\n",
      "\u001b[34m\u001b[1mwandb\u001b[0m:         val/cls_loss ▁█\n",
      "\u001b[34m\u001b[1mwandb\u001b[0m:         val/obj_loss █▁\n",
      "\u001b[34m\u001b[1mwandb\u001b[0m:                x/lr0 ▁\n",
      "\u001b[34m\u001b[1mwandb\u001b[0m:                x/lr1 ▁\n",
      "\u001b[34m\u001b[1mwandb\u001b[0m:                x/lr2 ▁\n",
      "\u001b[34m\u001b[1mwandb\u001b[0m: \n",
      "\u001b[34m\u001b[1mwandb\u001b[0m: Run summary:\n",
      "\u001b[34m\u001b[1mwandb\u001b[0m:           best/epoch 0\n",
      "\u001b[34m\u001b[1mwandb\u001b[0m:         best/mAP_0.5 0.0\n",
      "\u001b[34m\u001b[1mwandb\u001b[0m:    best/mAP_0.5:0.95 0.0\n",
      "\u001b[34m\u001b[1mwandb\u001b[0m:       best/precision 0.0\n",
      "\u001b[34m\u001b[1mwandb\u001b[0m:          best/recall 0.0\n",
      "\u001b[34m\u001b[1mwandb\u001b[0m:      metrics/mAP_0.5 0.0\n",
      "\u001b[34m\u001b[1mwandb\u001b[0m: metrics/mAP_0.5:0.95 0.0\n",
      "\u001b[34m\u001b[1mwandb\u001b[0m:    metrics/precision 0.0\n",
      "\u001b[34m\u001b[1mwandb\u001b[0m:       metrics/recall 0.0\n",
      "\u001b[34m\u001b[1mwandb\u001b[0m:       train/box_loss 0.11549\n",
      "\u001b[34m\u001b[1mwandb\u001b[0m:       train/cls_loss 0.08412\n",
      "\u001b[34m\u001b[1mwandb\u001b[0m:       train/obj_loss 0.02005\n",
      "\u001b[34m\u001b[1mwandb\u001b[0m:         val/box_loss 0.10932\n",
      "\u001b[34m\u001b[1mwandb\u001b[0m:         val/cls_loss 0.08322\n",
      "\u001b[34m\u001b[1mwandb\u001b[0m:         val/obj_loss 0.01652\n",
      "\u001b[34m\u001b[1mwandb\u001b[0m:                x/lr0 0.1\n",
      "\u001b[34m\u001b[1mwandb\u001b[0m:                x/lr1 0.0\n",
      "\u001b[34m\u001b[1mwandb\u001b[0m:                x/lr2 0.0\n",
      "\u001b[34m\u001b[1mwandb\u001b[0m: \n",
      "\u001b[34m\u001b[1mwandb\u001b[0m: 🚀 View run \u001b[33mpleasant-haze-1\u001b[0m at: \u001b[34m\u001b[4mhttps://wandb.ai/asmetanin/2024-06-24_13-22-33_yolov5n/runs/lldqojbm\u001b[0m\n",
      "\u001b[34m\u001b[1mwandb\u001b[0m: ️⚡ View job at \u001b[34m\u001b[4mhttps://wandb.ai/asmetanin/2024-06-24_13-22-33_yolov5n/jobs/QXJ0aWZhY3RDb2xsZWN0aW9uOjIyNzU3MjU5Ng==/version_details/v0\u001b[0m\n",
      "\u001b[34m\u001b[1mwandb\u001b[0m: Synced 5 W&B file(s), 6 media file(s), 3 artifact file(s) and 0 other file(s)\n",
      "\u001b[34m\u001b[1mwandb\u001b[0m: Find logs at: \u001b[35m\u001b[1m./wandb/run-20240624_132235-lldqojbm/logs\u001b[0m\n",
      "\u001b[34m\u001b[1mwandb\u001b[0m: WARNING ⚠️ wandb is deprecated and will be removed in a future release. See supported integrations at https://github.com/ultralytics/yolov5#integrations.\n"
     ]
    }
   ],
   "source": [
    "!python3 train_detectors.py"
   ]
  },
  {
   "cell_type": "markdown",
   "metadata": {},
   "source": []
  }
 ],
 "metadata": {
  "kernelspec": {
   "display_name": "test",
   "language": "python",
   "name": "python3"
  },
  "language_info": {
   "codemirror_mode": {
    "name": "ipython",
    "version": 3
   },
   "file_extension": ".py",
   "mimetype": "text/x-python",
   "name": "python",
   "nbconvert_exporter": "python",
   "pygments_lexer": "ipython3",
   "version": "3.8.10"
  },
  "orig_nbformat": 4
 },
 "nbformat": 4,
 "nbformat_minor": 2
}
