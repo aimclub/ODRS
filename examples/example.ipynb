{
 "cells": [
  {
   "cell_type": "code",
   "execution_count": 2,
   "metadata": {},
   "outputs": [
    {
     "name": "stdout",
     "output_type": "stream",
     "text": [
      "/media/farm/ssd_1_tb_evo_sumsung\n"
     ]
    }
   ],
   "source": [
    "!git clone https://github.com/saaresearch/ODRS.git\n",
    "%cd ODRS/\n",
    "!pip install -r requirements.txt \n",
    "%cd .."
   ]
  },
  {
   "attachments": {},
   "cell_type": "markdown",
   "metadata": {},
   "source": [
    "# ML Recommendation System"
   ]
  },
  {
   "attachments": {},
   "cell_type": "markdown",
   "metadata": {},
   "source": [
    "1. `cd ODRS/`;\n",
    "2. Put your dataset in yolo format in the user_datasets/yolo directory;\n",
    "3. Add to the root directory of the project .txt a file containing the names of all classes in your set of images;\n",
    "4. `cd ODRS/ml_utils/config/`, open file ml_config.yaml and set your parameters; \n",
    "5. `cd ..`;\n",
    "6. Run script: `python3 ml_model_optimizer.py`."
   ]
  },
  {
   "cell_type": "code",
   "execution_count": null,
   "metadata": {},
   "outputs": [],
   "source": [
    "%cd ODRS/"
   ]
  },
  {
   "cell_type": "code",
   "execution_count": 5,
   "metadata": {},
   "outputs": [
    {
     "name": "stdout",
     "output_type": "stream",
     "text": [
      "/media/farm/ssd_1_tb_evo_sumsung/ODRS/ODRS/ml_utils/config\n"
     ]
    }
   ],
   "source": [
    "%cd ODRS/ml_utils/config/"
   ]
  },
  {
   "cell_type": "code",
   "execution_count": 13,
   "metadata": {},
   "outputs": [
    {
     "name": "stdout",
     "output_type": "stream",
     "text": [
      "Before\n"
     ]
    },
    {
     "data": {
      "text/plain": [
       "{'GPU': True,\n",
       " 'accuracy': 10,\n",
       " 'classes_path': 'classes.txt',\n",
       " 'dataset_path': '/media/farm/ssd_1_tb_evo_sumsung/ODRS/user_datasets/yolo/Aerial_Maritime',\n",
       " 'speed': 3}"
      ]
     },
     "metadata": {},
     "output_type": "display_data"
    },
    {
     "name": "stdout",
     "output_type": "stream",
     "text": [
      "After\n"
     ]
    },
    {
     "data": {
      "text/plain": [
       "{'GPU': True,\n",
       " 'accuracy': 10,\n",
       " 'classes_path': 'classes.txt',\n",
       " 'dataset_path': '/media/farm/ssd_1_tb_evo_sumsung/ODRS/user_datasets/yolo/Aerial_Maritime',\n",
       " 'speed': 1}"
      ]
     },
     "metadata": {},
     "output_type": "display_data"
    }
   ],
   "source": [
    "import yaml\n",
    "from IPython.display import display\n",
    "\n",
    "print(\"Before\")\n",
    "\n",
    "with open('ml_config.yaml', 'r') as yaml_file:\n",
    "    yaml_content = yaml.safe_load(yaml_file)\n",
    "    display(yaml_content)\n",
    "\n",
    "# Speed changing \n",
    "yaml_content['speed'] = 1\n",
    "with open('ml_config.yaml', 'w') as yaml_file:\n",
    "    yaml.dump(yaml_content, yaml_file)\n",
    "\n",
    "print(\"After\")\n",
    "\n",
    "with open('ml_config.yaml', 'r') as yaml_file:\n",
    "    yaml_content = yaml.safe_load(yaml_file)\n",
    "    display(yaml_content)"
   ]
  },
  {
   "cell_type": "code",
   "execution_count": 14,
   "metadata": {},
   "outputs": [
    {
     "name": "stdout",
     "output_type": "stream",
     "text": [
      "/media/farm/ssd_1_tb_evo_sumsung/ODRS/ODRS/ml_utils\n"
     ]
    }
   ],
   "source": [
    "%cd ..\n"
   ]
  },
  {
   "cell_type": "code",
   "execution_count": 17,
   "metadata": {},
   "outputs": [
    {
     "name": "stdout",
     "output_type": "stream",
     "text": [
      "Number of images: 1016\n",
      "W: 800\n",
      "H: 600\n",
      "Gini Coefficient: 64.0\n",
      "Number of classes: 5\n",
      "Top models for training:\n",
      "1) yolov5x\n",
      "2) yolov5l\n",
      "3) yolov8x6\n"
     ]
    }
   ],
   "source": [
    "!python3 ml_model_optimizer.py"
   ]
  },
  {
   "attachments": {},
   "cell_type": "markdown",
   "metadata": {},
   "source": [
    "# Model traning "
   ]
  },
  {
   "attachments": {},
   "cell_type": "markdown",
   "metadata": {},
   "source": [
    "1. `cd ODRS/`;\n",
    "2. Put your dataset in yolo format in the user_datasets/yolo directory;\n",
    "3. Add to the root directory of the project .txt a file containing the names of all classes in your set of images;\n",
    "4. `cd ODRS/train_utils/config/`, open file ml_config.yaml and set your parameters; \n",
    "5. `cd ..`;\n",
    "6. Run script: `python3 custom_train_all.py `."
   ]
  },
  {
   "cell_type": "code",
   "execution_count": 23,
   "metadata": {},
   "outputs": [
    {
     "name": "stdout",
     "output_type": "stream",
     "text": [
      "/media/farm/ssd_1_tb_evo_sumsung/ODRS\n"
     ]
    }
   ],
   "source": [
    "%cd ODRS/"
   ]
  },
  {
   "cell_type": "code",
   "execution_count": 24,
   "metadata": {},
   "outputs": [
    {
     "name": "stdout",
     "output_type": "stream",
     "text": [
      "/media/farm/ssd_1_tb_evo_sumsung/ODRS/ODRS/train_utils/config\n"
     ]
    }
   ],
   "source": [
    "%cd ODRS/train_utils/config/"
   ]
  },
  {
   "cell_type": "code",
   "execution_count": 26,
   "metadata": {},
   "outputs": [
    {
     "name": "stdout",
     "output_type": "stream",
     "text": [
      "Before\n"
     ]
    },
    {
     "data": {
      "text/plain": [
       "{'BATCH_SIZE': 18,\n",
       " 'CLASSES': 'classes.txt',\n",
       " 'CONFIG_PATH': 'dataset.yaml',\n",
       " 'DATA_PATH': '/media/farm/ssd_1_tb_evo_sumsung/ODRS/user_datasets/yolo/Aerial_Maritime',\n",
       " 'EPOCHS': 3,\n",
       " 'GPU_COUNT': 4,\n",
       " 'IMG_SIZE': 510,\n",
       " 'MODEL': 'faster-rcnn',\n",
       " 'SELECT_GPU': '0,1',\n",
       " 'SPLIT_TEST_VALUE': 0.05,\n",
       " 'SPLIT_TRAIN_VALUE': 0.6,\n",
       " 'SPLIT_VAL_VALUE': 0.35}"
      ]
     },
     "metadata": {},
     "output_type": "display_data"
    },
    {
     "name": "stdout",
     "output_type": "stream",
     "text": [
      "After\n"
     ]
    },
    {
     "data": {
      "text/plain": [
       "{'BATCH_SIZE': 18,\n",
       " 'CLASSES': 'classes.txt',\n",
       " 'CONFIG_PATH': 'dataset.yaml',\n",
       " 'DATA_PATH': '/media/farm/ssd_1_tb_evo_sumsung/ODRS/user_datasets/yolo/Aerial_Maritime',\n",
       " 'EPOCHS': 3,\n",
       " 'GPU_COUNT': 4,\n",
       " 'IMG_SIZE': 510,\n",
       " 'MODEL': 'yolov5x',\n",
       " 'SELECT_GPU': '0,1',\n",
       " 'SPLIT_TEST_VALUE': 0.05,\n",
       " 'SPLIT_TRAIN_VALUE': 0.6,\n",
       " 'SPLIT_VAL_VALUE': 0.35}"
      ]
     },
     "metadata": {},
     "output_type": "display_data"
    }
   ],
   "source": [
    "import yaml\n",
    "from IPython.display import display\n",
    "\n",
    "print(\"Before\")\n",
    "\n",
    "with open('custom_config.yaml', 'r') as yaml_file:\n",
    "    yaml_content = yaml.safe_load(yaml_file)\n",
    "    display(yaml_content)\n",
    "\n",
    "# Speed changing \n",
    "yaml_content['MODEL'] = 'yolov5x'\n",
    "with open('custom_config.yaml', 'w') as yaml_file:\n",
    "    yaml.dump(yaml_content, yaml_file)\n",
    "\n",
    "print(\"After\")\n",
    "\n",
    "with open('custom_config.yaml', 'r') as yaml_file:\n",
    "    yaml_content = yaml.safe_load(yaml_file)\n",
    "    display(yaml_content)"
   ]
  },
  {
   "cell_type": "code",
   "execution_count": 27,
   "metadata": {},
   "outputs": [
    {
     "name": "stdout",
     "output_type": "stream",
     "text": [
      "/media/farm/ssd_1_tb_evo_sumsung/ODRS/ODRS/train_utils\n"
     ]
    }
   ],
   "source": [
    "%cd ..\n"
   ]
  },
  {
   "cell_type": "code",
   "execution_count": 29,
   "metadata": {},
   "outputs": [
    {
     "name": "stdout",
     "output_type": "stream",
     "text": [
      "\u001b[32m2023-08-10 17:46:51.710\u001b[0m | \u001b[1mINFO    \u001b[0m | \u001b[36mODRS.data_utils.create_config\u001b[0m:\u001b[36mcreate_config_data\u001b[0m:\u001b[36m117\u001b[0m - \u001b[1mCreate config file\u001b[0m\n",
      "\u001b[34m\u001b[1mwandb\u001b[0m: WARNING ⚠️ wandb is deprecated and will be removed in a future release. See supported integrations at https://github.com/ultralytics/yolov5#integrations.\n",
      "\u001b[34m\u001b[1mwandb\u001b[0m: Currently logged in as: \u001b[33masmetanin\u001b[0m. Use \u001b[1m`wandb login --relogin`\u001b[0m to force relogin\n",
      "\u001b[34m\u001b[1mtrain: \u001b[0mweights=train_model/models/yolov5/yolov5s.pt, cfg=/media/farm/ssd_1_tb_evo_sumsung/ODRS/ODRS/train_utils/train_model/models/yolov5/models/yolov5x.yaml, data=/media/farm/ssd_1_tb_evo_sumsung/ODRS/runs/2023-08-10_17-46-51_yolov5/dataset.yaml, hyp=train_model/models/yolov5/data/hyps/hyp.scratch-low.yaml, epochs=3, batch_size=18, imgsz=510, rect=False, resume=False, nosave=False, noval=False, noautoanchor=False, noplots=False, evolve=None, bucket=, cache=None, image_weights=False, device=0,1, multi_scale=False, single_cls=False, optimizer=SGD, sync_bn=False, workers=8, project=/media/farm/ssd_1_tb_evo_sumsung/ODRS/runs/2023-08-10_17-46-51_yolov5, name=exp, exist_ok=False, quad=False, cos_lr=False, label_smoothing=0.0, patience=100, freeze=[0], save_period=-1, seed=0, local_rank=-1, entity=None, upload_dataset=False, bbox_interval=-1, artifact_alias=latest\n",
      "\u001b[34m\u001b[1mgithub: \u001b[0mskipping check (not a git repository), for updates see https://github.com/ultralytics/yolov5\n",
      "YOLOv5 🚀 2023-8-3 Python-3.8.17 torch-1.13.1+cu117 CUDA:0 (NVIDIA RTX A5000, 24256MiB)\n",
      "                                                    CUDA:1 (NVIDIA RTX A5000, 24256MiB)\n",
      "\n",
      "\u001b[34m\u001b[1mhyperparameters: \u001b[0mlr0=0.01, lrf=0.01, momentum=0.937, weight_decay=0.0005, warmup_epochs=3.0, warmup_momentum=0.8, warmup_bias_lr=0.1, box=0.05, cls=0.5, cls_pw=1.0, obj=1.0, obj_pw=1.0, iou_t=0.2, anchor_t=4.0, fl_gamma=0.0, hsv_h=0.015, hsv_s=0.7, hsv_v=0.4, degrees=0.0, translate=0.1, scale=0.5, shear=0.0, perspective=0.0, flipud=0.0, fliplr=0.5, mosaic=1.0, mixup=0.0, copy_paste=0.0\n",
      "\u001b[34m\u001b[1mClearML: \u001b[0mrun 'pip install clearml' to automatically track, visualize and remotely train YOLOv5 🚀 in ClearML\n",
      "\u001b[34m\u001b[1mComet: \u001b[0mrun 'pip install comet_ml' to automatically track and visualize YOLOv5 🚀 runs in Comet\n",
      "\u001b[34m\u001b[1mTensorBoard: \u001b[0mStart with 'tensorboard --logdir /media/farm/ssd_1_tb_evo_sumsung/ODRS/runs/2023-08-10_17-46-51_yolov5', view at http://localhost:6006/\n",
      "2023-08-10 17:46:57.985180: I tensorflow/core/platform/cpu_feature_guard.cc:193] This TensorFlow binary is optimized with oneAPI Deep Neural Network Library (oneDNN) to use the following CPU instructions in performance-critical operations:  AVX2 FMA\n",
      "To enable them in other operations, rebuild TensorFlow with the appropriate compiler flags.\n",
      "2023-08-10 17:46:58.846414: W tensorflow/compiler/xla/stream_executor/platform/default/dso_loader.cc:64] Could not load dynamic library 'libnvinfer.so.7'; dlerror: libnvinfer.so.7: cannot open shared object file: No such file or directory; LD_LIBRARY_PATH: /home/farm/anaconda3/envs/test/lib/python3.8/site-packages/cv2/../../lib64:\n",
      "2023-08-10 17:46:58.846516: W tensorflow/compiler/xla/stream_executor/platform/default/dso_loader.cc:64] Could not load dynamic library 'libnvinfer_plugin.so.7'; dlerror: libnvinfer_plugin.so.7: cannot open shared object file: No such file or directory; LD_LIBRARY_PATH: /home/farm/anaconda3/envs/test/lib/python3.8/site-packages/cv2/../../lib64:\n",
      "2023-08-10 17:46:58.846530: W tensorflow/compiler/tf2tensorrt/utils/py_utils.cc:38] TF-TRT Warning: Cannot dlopen some TensorRT libraries. If you would like to use Nvidia GPU with TensorRT, please make sure the missing libraries mentioned above are installed properly.\n",
      "\u001b[34m\u001b[1mwandb\u001b[0m: Tracking run with wandb version 0.15.8\n",
      "\u001b[34m\u001b[1mwandb\u001b[0m: Run data is saved locally in \u001b[35m\u001b[1m/media/farm/ssd_1_tb_evo_sumsung/ODRS/ODRS/train_utils/wandb/run-20230810_174659-bjtcvvit\u001b[0m\n",
      "\u001b[34m\u001b[1mwandb\u001b[0m: Run \u001b[1m`wandb offline`\u001b[0m to turn off syncing.\n",
      "\u001b[34m\u001b[1mwandb\u001b[0m: Syncing run \u001b[33meager-oath-1\u001b[0m\n",
      "\u001b[34m\u001b[1mwandb\u001b[0m: ⭐️ View project at \u001b[34m\u001b[4mhttps://wandb.ai/asmetanin/2023-08-10_17-46-51_yolov5\u001b[0m\n",
      "\u001b[34m\u001b[1mwandb\u001b[0m: 🚀 View run at \u001b[34m\u001b[4mhttps://wandb.ai/asmetanin/2023-08-10_17-46-51_yolov5/runs/bjtcvvit\u001b[0m\n",
      "Overriding model.yaml nc=80 with nc=5\n",
      "\n",
      "                 from  n    params  module                                  arguments                     \n",
      "  0                -1  1      8800  models.common.Conv                      [3, 80, 6, 2, 2]              \n",
      "  1                -1  1    115520  models.common.Conv                      [80, 160, 3, 2]               \n",
      "  2                -1  4    309120  models.common.C3                        [160, 160, 4]                 \n",
      "  3                -1  1    461440  models.common.Conv                      [160, 320, 3, 2]              \n",
      "  4                -1  8   2259200  models.common.C3                        [320, 320, 8]                 \n",
      "  5                -1  1   1844480  models.common.Conv                      [320, 640, 3, 2]              \n",
      "  6                -1 12  13125120  models.common.C3                        [640, 640, 12]                \n",
      "  7                -1  1   7375360  models.common.Conv                      [640, 1280, 3, 2]             \n",
      "  8                -1  4  19676160  models.common.C3                        [1280, 1280, 4]               \n",
      "  9                -1  1   4099840  models.common.SPPF                      [1280, 1280, 5]               \n",
      " 10                -1  1    820480  models.common.Conv                      [1280, 640, 1, 1]             \n",
      " 11                -1  1         0  torch.nn.modules.upsampling.Upsample    [None, 2, 'nearest']          \n",
      " 12           [-1, 6]  1         0  models.common.Concat                    [1]                           \n",
      " 13                -1  4   5332480  models.common.C3                        [1280, 640, 4, False]         \n",
      " 14                -1  1    205440  models.common.Conv                      [640, 320, 1, 1]              \n",
      " 15                -1  1         0  torch.nn.modules.upsampling.Upsample    [None, 2, 'nearest']          \n",
      " 16           [-1, 4]  1         0  models.common.Concat                    [1]                           \n",
      " 17                -1  4   1335040  models.common.C3                        [640, 320, 4, False]          \n",
      " 18                -1  1    922240  models.common.Conv                      [320, 320, 3, 2]              \n",
      " 19          [-1, 14]  1         0  models.common.Concat                    [1]                           \n",
      " 20                -1  4   4922880  models.common.C3                        [640, 640, 4, False]          \n",
      " 21                -1  1   3687680  models.common.Conv                      [640, 640, 3, 2]              \n",
      " 22          [-1, 10]  1         0  models.common.Concat                    [1]                           \n",
      " 23                -1  4  19676160  models.common.C3                        [1280, 1280, 4, False]        \n",
      " 24      [17, 20, 23]  1     67290  models.yolo.Detect                      [5, [[10, 13, 16, 30, 33, 23], [30, 61, 62, 45, 59, 119], [116, 90, 156, 198, 373, 326]], [320, 640, 1280]]\n",
      "YOLOv5x summary: 445 layers, 86244730 parameters, 86244730 gradients, 204.7 GFLOPs\n",
      "\n",
      "Transferred 57/745 items from train_model/models/yolov5/yolov5s.pt\n",
      "\u001b[34m\u001b[1mAMP: \u001b[0mchecks passed ✅\n",
      "WARNING ⚠️ --img-size 510 must be multiple of max stride 32, updating to 512\n",
      "\u001b[34m\u001b[1moptimizer:\u001b[0m SGD(lr=0.01) with parameter groups 123 weight(decay=0.0), 126 weight(decay=0.0005625000000000001), 126 bias\n",
      "\u001b[34m\u001b[1malbumentations: \u001b[0mBlur(p=0.01, blur_limit=(3, 7)), MedianBlur(p=0.01, blur_limit=(3, 7)), ToGray(p=0.01), CLAHE(p=0.01, clip_limit=(1, 4.0), tile_grid_size=(8, 8))\n",
      "\u001b[34m\u001b[1mtrain: \u001b[0mScanning /media/farm/ssd_1_tb_evo_sumsung/ODRS/user_datasets/yolo/Aerial_\u001b[0m\n",
      "\u001b[34m\u001b[1mtrain: \u001b[0mNew cache created: /media/farm/ssd_1_tb_evo_sumsung/ODRS/user_datasets/yolo/Aerial_Maritime/train/labels.cache\n",
      "\u001b[34m\u001b[1mval: \u001b[0mScanning /media/farm/ssd_1_tb_evo_sumsung/ODRS/user_datasets/yolo/Aerial_Ma\u001b[0m\n",
      "\u001b[34m\u001b[1mval: \u001b[0mNew cache created: /media/farm/ssd_1_tb_evo_sumsung/ODRS/user_datasets/yolo/Aerial_Maritime/valid/labels.cache\n",
      "\n",
      "\u001b[34m\u001b[1mAutoAnchor: \u001b[0m4.99 anchors/target, 0.981 Best Possible Recall (BPR). Current anchors are a good fit to dataset ✅\n",
      "Plotting labels to /media/farm/ssd_1_tb_evo_sumsung/ODRS/runs/2023-08-10_17-46-51_yolov5/exp/labels.jpg... \n",
      "Image sizes 512 train, 512 val\n",
      "Using 16 dataloader workers\n",
      "Logging results to \u001b[1m/media/farm/ssd_1_tb_evo_sumsung/ODRS/runs/2023-08-10_17-46-51_yolov5/exp\u001b[0m\n",
      "Starting training for 3 epochs...\n",
      "\n",
      "      Epoch    GPU_mem   box_loss   obj_loss   cls_loss  Instances       Size\n",
      "        0/2      6.19G     0.1163    0.03599    0.05401         33        512: 1\n",
      "                 Class     Images  Instances          P          R      mAP50   \n",
      "                   all        105        265   0.000582      0.171   0.000538   0.000182\n",
      "\n",
      "      Epoch    GPU_mem   box_loss   obj_loss   cls_loss  Instances       Size\n",
      "        1/2      6.36G     0.1159    0.03642    0.05457         35        512: 1\n",
      "                 Class     Images  Instances          P          R      mAP50   \n",
      "                   all        105        265    0.00134        0.2    0.00142   0.000438\n",
      "\n",
      "      Epoch    GPU_mem   box_loss   obj_loss   cls_loss  Instances       Size\n",
      "        2/2      6.36G     0.1147    0.03893    0.05385         29        512: 1\n",
      "                 Class     Images  Instances          P          R      mAP50   \n",
      "                   all        105        265    0.00138       0.22    0.00111   0.000333\n",
      "\n",
      "3 epochs completed in 0.033 hours.\n",
      "Optimizer stripped from /media/farm/ssd_1_tb_evo_sumsung/ODRS/runs/2023-08-10_17-46-51_yolov5/exp/weights/last.pt, 173.0MB\n",
      "Optimizer stripped from /media/farm/ssd_1_tb_evo_sumsung/ODRS/runs/2023-08-10_17-46-51_yolov5/exp/weights/best.pt, 173.0MB\n",
      "\n",
      "Validating /media/farm/ssd_1_tb_evo_sumsung/ODRS/runs/2023-08-10_17-46-51_yolov5/exp/weights/best.pt...\n",
      "Fusing layers... \n",
      "YOLOv5x summary: 322 layers, 86200330 parameters, 0 gradients, 203.8 GFLOPs\n",
      "                 Class     Images  Instances          P          R      mAP50   WARNING ⚠️ NMS time limit 1.400s exceeded\n",
      "                 Class     Images  Instances          P          R      mAP50   \n",
      "                   all        105        265    0.00142      0.142    0.00111   0.000339\n",
      "                  boat        105          9   0.000234      0.222   0.000309   8.39e-05\n",
      "                   car        105         22          0          0          0          0\n",
      "                  dock        105        122    0.00314      0.426    0.00257   0.000827\n",
      "                jetski        105         17          0          0          0          0\n",
      "                  lift        105         95    0.00375     0.0632    0.00265   0.000783\n",
      "Results saved to \u001b[1m/media/farm/ssd_1_tb_evo_sumsung/ODRS/runs/2023-08-10_17-46-51_yolov5/exp\u001b[0m\n",
      "\u001b[34m\u001b[1mwandb\u001b[0m: Waiting for W&B process to finish... \u001b[32m(success).\u001b[0m\n",
      "\u001b[34m\u001b[1mwandb\u001b[0m: \n",
      "\u001b[34m\u001b[1mwandb\u001b[0m: Run history:\n",
      "\u001b[34m\u001b[1mwandb\u001b[0m:      metrics/mAP_0.5 ▁█▅▆\n",
      "\u001b[34m\u001b[1mwandb\u001b[0m: metrics/mAP_0.5:0.95 ▁█▅▅\n",
      "\u001b[34m\u001b[1mwandb\u001b[0m:    metrics/precision ▁▇██\n",
      "\u001b[34m\u001b[1mwandb\u001b[0m:       metrics/recall ▄▆█▁\n",
      "\u001b[34m\u001b[1mwandb\u001b[0m:       train/box_loss █▇▁\n",
      "\u001b[34m\u001b[1mwandb\u001b[0m:       train/cls_loss ▃█▁\n",
      "\u001b[34m\u001b[1mwandb\u001b[0m:       train/obj_loss ▁▂█\n",
      "\u001b[34m\u001b[1mwandb\u001b[0m:         val/box_loss █▅▁▅\n",
      "\u001b[34m\u001b[1mwandb\u001b[0m:         val/cls_loss █▃▁▃\n",
      "\u001b[34m\u001b[1mwandb\u001b[0m:         val/obj_loss ▁▄█▄\n",
      "\u001b[34m\u001b[1mwandb\u001b[0m:                x/lr0 █▅▁\n",
      "\u001b[34m\u001b[1mwandb\u001b[0m:                x/lr1 ▁█▂\n",
      "\u001b[34m\u001b[1mwandb\u001b[0m:                x/lr2 ▁█▂\n",
      "\u001b[34m\u001b[1mwandb\u001b[0m: \n",
      "\u001b[34m\u001b[1mwandb\u001b[0m: Run summary:\n",
      "\u001b[34m\u001b[1mwandb\u001b[0m:           best/epoch 1\n",
      "\u001b[34m\u001b[1mwandb\u001b[0m:         best/mAP_0.5 0.00142\n",
      "\u001b[34m\u001b[1mwandb\u001b[0m:    best/mAP_0.5:0.95 0.00044\n",
      "\u001b[34m\u001b[1mwandb\u001b[0m:       best/precision 0.00134\n",
      "\u001b[34m\u001b[1mwandb\u001b[0m:          best/recall 0.19988\n",
      "\u001b[34m\u001b[1mwandb\u001b[0m:      metrics/mAP_0.5 0.00111\n",
      "\u001b[34m\u001b[1mwandb\u001b[0m: metrics/mAP_0.5:0.95 0.00034\n",
      "\u001b[34m\u001b[1mwandb\u001b[0m:    metrics/precision 0.00142\n",
      "\u001b[34m\u001b[1mwandb\u001b[0m:       metrics/recall 0.14232\n",
      "\u001b[34m\u001b[1mwandb\u001b[0m:       train/box_loss 0.11467\n",
      "\u001b[34m\u001b[1mwandb\u001b[0m:       train/cls_loss 0.05385\n",
      "\u001b[34m\u001b[1mwandb\u001b[0m:       train/obj_loss 0.03893\n",
      "\u001b[34m\u001b[1mwandb\u001b[0m:         val/box_loss 0.10627\n",
      "\u001b[34m\u001b[1mwandb\u001b[0m:         val/cls_loss 0.04849\n",
      "\u001b[34m\u001b[1mwandb\u001b[0m:         val/obj_loss 0.02355\n",
      "\u001b[34m\u001b[1mwandb\u001b[0m:                x/lr0 0.04011\n",
      "\u001b[34m\u001b[1mwandb\u001b[0m:                x/lr1 0.00211\n",
      "\u001b[34m\u001b[1mwandb\u001b[0m:                x/lr2 0.00211\n",
      "\u001b[34m\u001b[1mwandb\u001b[0m: \n",
      "\u001b[34m\u001b[1mwandb\u001b[0m: 🚀 View run \u001b[33meager-oath-1\u001b[0m at: \u001b[34m\u001b[4mhttps://wandb.ai/asmetanin/2023-08-10_17-46-51_yolov5/runs/bjtcvvit\u001b[0m\n",
      "\u001b[34m\u001b[1mwandb\u001b[0m: ️⚡ View job at \u001b[34m\u001b[4mhttps://wandb.ai/asmetanin/2023-08-10_17-46-51_yolov5/jobs/QXJ0aWZhY3RDb2xsZWN0aW9uOjg5NTQzOTU0/version_details/v0\u001b[0m\n",
      "\u001b[34m\u001b[1mwandb\u001b[0m: Synced 6 W&B file(s), 17 media file(s), 3 artifact file(s) and 0 other file(s)\n",
      "\u001b[34m\u001b[1mwandb\u001b[0m: Find logs at: \u001b[35m\u001b[1m./wandb/run-20230810_174659-bjtcvvit/logs\u001b[0m\n",
      "\u001b[34m\u001b[1mwandb\u001b[0m: WARNING ⚠️ wandb is deprecated and will be removed in a future release. See supported integrations at https://github.com/ultralytics/yolov5#integrations.\n"
     ]
    }
   ],
   "source": [
    "!python3 custom_train_all.py"
   ]
  },
  {
   "cell_type": "code",
   "execution_count": null,
   "metadata": {},
   "outputs": [],
   "source": []
  }
 ],
 "metadata": {
  "kernelspec": {
   "display_name": "test",
   "language": "python",
   "name": "python3"
  },
  "language_info": {
   "codemirror_mode": {
    "name": "ipython",
    "version": 3
   },
   "file_extension": ".py",
   "mimetype": "text/x-python",
   "name": "python",
   "nbconvert_exporter": "python",
   "pygments_lexer": "ipython3",
   "version": "3.8.17"
  },
  "orig_nbformat": 4
 },
 "nbformat": 4,
 "nbformat_minor": 2
}
